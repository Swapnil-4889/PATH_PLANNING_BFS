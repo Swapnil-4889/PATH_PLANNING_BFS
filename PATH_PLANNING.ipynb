{
  "nbformat": 4,
  "nbformat_minor": 0,
  "metadata": {
    "colab": {
      "provenance": []
    },
    "kernelspec": {
      "name": "python3",
      "display_name": "Python 3"
    },
    "language_info": {
      "name": "python"
    }
  },
  "cells": [
    {
      "cell_type": "code",
      "source": [
        "import numpy as np\n",
        "import matplotlib.pyplot as plt"
      ],
      "metadata": {
        "id": "z9-Pgjx1MiCf"
      },
      "execution_count": 2,
      "outputs": []
    },
    {
      "cell_type": "code",
      "source": [],
      "metadata": {
        "id": "U-QJdCCMMkoZ"
      },
      "execution_count": null,
      "outputs": []
    },
    {
      "cell_type": "code",
      "execution_count": 3,
      "metadata": {
        "id": "QfvKr1EMGU1R"
      },
      "outputs": [],
      "source": [
        "r1 = 6\n",
        "r2 = 7"
      ]
    },
    {
      "cell_type": "code",
      "source": [
        "r_array = np.linspace(r1,r2,1000*abs(r1-r2))\n",
        "theta_array = np.linspace(0,2*np.pi,1000)"
      ],
      "metadata": {
        "id": "hXrfxmIkMOON"
      },
      "execution_count": 4,
      "outputs": []
    },
    {
      "cell_type": "code",
      "source": [
        "rn  = len(r_array)-1\n",
        "thn = len(theta_array)-1"
      ],
      "metadata": {
        "id": "JO_bZc01y7yO"
      },
      "execution_count": 5,
      "outputs": []
    },
    {
      "cell_type": "code",
      "source": [
        "# theta_array = list(theta_array)\n",
        "# theta_array.append(theta_array[0])"
      ],
      "metadata": {
        "id": "lqU0KpJnPAoB"
      },
      "execution_count": 6,
      "outputs": []
    },
    {
      "cell_type": "code",
      "source": [
        "# MAP GENERATOR"
      ],
      "metadata": {
        "id": "WOvcK3hjafF-"
      },
      "execution_count": 7,
      "outputs": []
    },
    {
      "cell_type": "code",
      "source": [
        "counter=1\n",
        "mapping={}\n",
        "for i in range(len(r_array)):\n",
        "  for j in range(len(theta_array)):\n",
        "    mapping[(i,j)] = counter\n",
        "    counter+=1"
      ],
      "metadata": {
        "collapsed": true,
        "id": "u_eOgn-uQv0u"
      },
      "execution_count": 8,
      "outputs": []
    },
    {
      "cell_type": "code",
      "source": [
        "#REVERSE MAPPING\n",
        "REV_mapping = dict(zip(mapping.values(), mapping.keys()))"
      ],
      "metadata": {
        "id": "hRPHTVWsYYto"
      },
      "execution_count": 9,
      "outputs": []
    },
    {
      "cell_type": "code",
      "source": [
        "#mapping"
      ],
      "metadata": {
        "collapsed": true,
        "id": "Yvx2NjBHYq5a"
      },
      "execution_count": 10,
      "outputs": []
    },
    {
      "cell_type": "code",
      "source": [
        "#REV_mapping"
      ],
      "metadata": {
        "collapsed": true,
        "id": "Oeh--mSMaCwQ"
      },
      "execution_count": 11,
      "outputs": []
    },
    {
      "cell_type": "code",
      "source": [
        "# NEIGHBOUR AJD LIST GENERATOR\n",
        "def neighbours(r,th):\n",
        "  N_array=[]\n",
        "  if r==0:\n",
        "    if th==0:\n",
        "      N_array=[(1,0),(1,1),(1,thn),(0,1),(0,thn)]\n",
        "    elif th==thn:\n",
        "      N_array=[(0,0),(1,0),(1,thn),(0,thn-1),(1,thn-1)]\n",
        "    else:\n",
        "      N_array=[(0,th+1),(0,th-1),(1,th+1),(1,th),(1,th-1)]\n",
        "\n",
        "\n",
        "  elif r==rn:\n",
        "    if th==0:\n",
        "      N_array=[(rn,1),(rn,thn),(rn-1,1),(rn-1,0),(rn-1,thn)]\n",
        "    elif th==thn:\n",
        "      N_array=[(rn,0),(rn,thn-1),(rn-1,0),(rn-1,thn),(rn-1,thn-1)]\n",
        "    else:\n",
        "      N_array=[(rn,th-1),(rn,th+1),(rn-1,th-1),(rn-1,th),(rn-1,th+1)]\n",
        "\n",
        "  elif th==0:\n",
        "    N_array=[(r,1),(r,thn),(r+1,0),(r+1,1),(r+1,thn),(r-1,0),(r-1,1),(r-1,thn)]\n",
        "\n",
        "  elif th==thn:\n",
        "    N_array=[(r,0),(r,thn-1),(r+1,0),(r+1,thn),(r+1,thn-1),(r-1,0),(r-1,thn),(r-1,thn-1)]\n",
        "\n",
        "  else:\n",
        "    N_array=[(r,th+1),(r,th-1),(r+1,th+1),(r+1,th),(r+1,th-1),(r-1,th+1),(r-1,th),(r-1,th-1)]\n",
        "\n",
        "  return N_array\n"
      ],
      "metadata": {
        "id": "lDPq44fCcTxo"
      },
      "execution_count": 12,
      "outputs": []
    },
    {
      "cell_type": "code",
      "source": [
        "#ENDs r_array[0]\n",
        "ADJ_LIST={}\n",
        "\n",
        "for i in range(len(r_array)):\n",
        "  for j in range(len(theta_array)):\n",
        "    ADJ_LIST[(i,j)]=neighbours(i,j)\n",
        "\n"
      ],
      "metadata": {
        "id": "82r3RA7vQwrh"
      },
      "execution_count": 13,
      "outputs": []
    },
    {
      "cell_type": "code",
      "source": [
        "for i in range(len(r_array)):\n",
        "  for j in range(len(theta_array)):\n",
        "    if ADJ_LIST[(i,j)]==[]:\n",
        "      print((i,j))\n"
      ],
      "metadata": {
        "id": "JWREadEM3rpv"
      },
      "execution_count": 14,
      "outputs": []
    },
    {
      "cell_type": "code",
      "source": [
        "#ADJ_LIST"
      ],
      "metadata": {
        "id": "oWoxehnicMn7",
        "collapsed": true
      },
      "execution_count": 15,
      "outputs": []
    },
    {
      "cell_type": "code",
      "source": [
        "ADJ_LIST_keys=list(ADJ_LIST.keys())"
      ],
      "metadata": {
        "id": "POpZpOtq3ef8"
      },
      "execution_count": 16,
      "outputs": []
    },
    {
      "cell_type": "code",
      "source": [
        "GRAPH={}"
      ],
      "metadata": {
        "id": "EDj7ULPi5Ih9"
      },
      "execution_count": 17,
      "outputs": []
    },
    {
      "cell_type": "code",
      "source": [],
      "metadata": {
        "id": "gN7notp35mgH"
      },
      "execution_count": 17,
      "outputs": []
    },
    {
      "cell_type": "code",
      "source": [
        "for i in range(len(r_array)):\n",
        "  for j in range(len(theta_array)):\n",
        "    AA = mapping[(i,j)]\n",
        "    GRAPH[AA]=[]\n",
        "    for u in ADJ_LIST[(i,j)]:\n",
        "      GRAPH[AA].append(mapping[u])\n"
      ],
      "metadata": {
        "id": "P4ChZ8Ra5J9t"
      },
      "execution_count": 18,
      "outputs": []
    },
    {
      "cell_type": "code",
      "source": [],
      "metadata": {
        "id": "yxe71b0j6Nt8"
      },
      "execution_count": 18,
      "outputs": []
    },
    {
      "cell_type": "code",
      "source": [
        "len(ADJ_LIST_keys)"
      ],
      "metadata": {
        "colab": {
          "base_uri": "https://localhost:8080/"
        },
        "id": "_o1S07Qc6S48",
        "outputId": "361b46c5-496a-40a7-fbee-2fba6e3b8701"
      },
      "execution_count": 19,
      "outputs": [
        {
          "output_type": "execute_result",
          "data": {
            "text/plain": [
              "1000000"
            ]
          },
          "metadata": {},
          "execution_count": 19
        }
      ]
    },
    {
      "cell_type": "code",
      "source": [
        "class Queue:\n",
        "  def __init__(self):\n",
        "    self.queue = []\n",
        "\n",
        "  def addq(self,v):\n",
        "    self.queue.append(v)\n",
        "\n",
        "  def delq(self):\n",
        "    v = None\n",
        "    if not self.isempty():\n",
        "      v = self.queue[0]\n",
        "      self.queue = self.queue[1:]\n",
        "    return(v)\n",
        "\n",
        "  def isempty(self):\n",
        "    return(self.queue == [])\n",
        "\n",
        "  def __str__(self):\n",
        "    return(str(self.queue))"
      ],
      "metadata": {
        "id": "X1w_8_rs9I_8"
      },
      "execution_count": 20,
      "outputs": []
    },
    {
      "cell_type": "code",
      "source": [
        "def BFSListPath(AList,v,target):\n",
        "  (visited,parent) = ({},{})\n",
        "  for i in AList.keys():\n",
        "    visited[i] = False\n",
        "    parent[i] = -1\n",
        "  q = Queue()\n",
        "\n",
        "  visited[v] = True\n",
        "  q.addq(v)\n",
        "\n",
        "  while(not q.isempty()):\n",
        "    j = q.delq()\n",
        "    for k in AList[j]:\n",
        "      if (not visited[k]):\n",
        "        visited[k] = True\n",
        "        parent[k] = j\n",
        "        q.addq(k)\n",
        "      if visited[target]==True:\n",
        "        return(visited,parent)\n",
        "  return(visited,parent)"
      ],
      "metadata": {
        "id": "3N_13tqz7wlt"
      },
      "execution_count": 21,
      "outputs": []
    },
    {
      "cell_type": "code",
      "source": [
        "PATH=BFSListPath(GRAPH,1,10)"
      ],
      "metadata": {
        "id": "FhT54-YB9UFt"
      },
      "execution_count": 22,
      "outputs": []
    },
    {
      "cell_type": "code",
      "source": [
        "(vis,par) = PATH"
      ],
      "metadata": {
        "id": "RL7xx0319gpv"
      },
      "execution_count": 23,
      "outputs": []
    },
    {
      "cell_type": "code",
      "source": [
        "#vis"
      ],
      "metadata": {
        "id": "ILDUgI6ya9wZ"
      },
      "execution_count": 25,
      "outputs": []
    },
    {
      "cell_type": "code",
      "source": [
        "#vis"
      ],
      "metadata": {
        "id": "pOiwt9Sq9kKc"
      },
      "execution_count": 26,
      "outputs": []
    },
    {
      "cell_type": "code",
      "source": [
        "#Kinematics ----------------"
      ],
      "metadata": {
        "id": "afwHlRLt-HFk"
      },
      "execution_count": null,
      "outputs": []
    },
    {
      "cell_type": "code",
      "source": [
        "\n",
        "\n",
        "def inverse_kinematics_2R(x, y, l1, l2):\n",
        "\n",
        "  d = np.sqrt(x**2 + y**2)\n",
        "\n",
        "  # Check if the target is reachable\n",
        "  if d > l1 + l2:\n",
        "    return None\n",
        "\n",
        "  # Calculate the elbow angle\n",
        "  cos_theta2 = (d**2 - l1**2 - l2**2) / (2 * l1 * l2)\n",
        "  if cos_theta2 < -1 or cos_theta2 > 1:\n",
        "    return None\n",
        "  theta2 = np.arctan2(np.sqrt(1 - cos_theta2**2), cos_theta2)\n",
        "\n",
        "  # Calculate the shoulder angle\n",
        "  alpha = np.arctan2(y, x)\n",
        "  beta = np.arctan2(l2 * np.sin(theta2), l1 + l2 * np.cos(theta2))\n",
        "  theta1 = alpha - beta\n",
        "\n",
        "  return theta1, theta2\n",
        "\n"
      ],
      "metadata": {
        "id": "gNcjUCBObImg"
      },
      "execution_count": 27,
      "outputs": []
    },
    {
      "cell_type": "code",
      "source": [
        "\n",
        "\n",
        "def jacobian_2R_DKIN(theta1, theta2, l1, l2):\n",
        "\n",
        "  J = np.array([\n",
        "      [-l1 * np.sin(theta1) - l2 * np.sin(theta1 + theta2), -l2 * np.sin(theta1 + theta2)],\n",
        "      [ l1 * np.cos(theta1) + l2 * np.cos(theta1 + theta2),  l2 * np.cos(theta1 + theta2)]\n",
        "  ])\n",
        "  return J\n",
        "\n"
      ],
      "metadata": {
        "id": "BjJjZ6pBbikV"
      },
      "execution_count": 28,
      "outputs": []
    },
    {
      "cell_type": "code",
      "source": [],
      "metadata": {
        "id": "YP332CKhbs8z"
      },
      "execution_count": null,
      "outputs": []
    }
  ]
}